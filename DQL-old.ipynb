{
 "metadata": {
  "language_info": {
   "codemirror_mode": {
    "name": "ipython",
    "version": 3
   },
   "file_extension": ".py",
   "mimetype": "text/x-python",
   "name": "python",
   "nbconvert_exporter": "python",
   "pygments_lexer": "ipython3",
   "version": "3.8.5-final"
  },
  "orig_nbformat": 2,
  "kernelspec": {
   "name": "Python 3.8.5 64-bit",
   "display_name": "Python 3.8.5 64-bit",
   "metadata": {
    "interpreter": {
     "hash": "916dbcbb3f70747c44a77c7bcd40155683ae19c65e1c03b4aa3499c5328201f1"
    }
   }
  }
 },
 "nbformat": 4,
 "nbformat_minor": 2,
 "cells": [
  {
   "cell_type": "code",
   "execution_count": 1,
   "metadata": {},
   "outputs": [],
   "source": [
    "import tensorflow as tf\n",
    "from tensorflow.keras.models import Sequential\n",
    "from tensorflow.keras.layers import Embedding, Reshape\n",
    "from tensorflow.keras.optimizers import Adam\n",
    "\n",
    "from rl.agents.dqn import DQNAgent\n",
    "from rl.policy import EpsGreedyQPolicy\n",
    "from rl.memory import SequentialMemory\n",
    "\n",
    "import gym"
   ]
  },
  {
   "cell_type": "code",
   "execution_count": 2,
   "metadata": {},
   "outputs": [
    {
     "output_type": "stream",
     "name": "stdout",
     "text": [
      "+---------+\n|\u001b[34;1mR\u001b[0m: | : :G|\n|\u001b[43m \u001b[0m: | : : |\n| : : : : |\n| | : | : |\n|\u001b[35mY\u001b[0m| : |B: |\n+---------+\n\n"
     ]
    }
   ],
   "source": [
    "env = gym.make('Taxi-v3')\n",
    "env.render()"
   ]
  },
  {
   "cell_type": "code",
   "execution_count": 3,
   "metadata": {},
   "outputs": [
    {
     "output_type": "stream",
     "name": "stdout",
     "text": [
      "Discrete(6)\nDiscrete(500)\n6\n500\n"
     ]
    }
   ],
   "source": [
    "print(env.action_space)\n",
    "print(env.observation_space)\n",
    "print(env.action_space.n)\n",
    "print(env.observation_space.n)"
   ]
  },
  {
   "cell_type": "code",
   "execution_count": 4,
   "metadata": {},
   "outputs": [
    {
     "output_type": "stream",
     "name": "stdout",
     "text": [
      "253\n153\n-1\nFalse\n{'prob': 1.0}\n"
     ]
    }
   ],
   "source": [
    "state = env.reset()\n",
    "next_state, reward, done, etc = env.step(1)\n",
    "print(state)\n",
    "print(next_state)\n",
    "print(reward)\n",
    "print(done)\n",
    "print(etc)"
   ]
  },
  {
   "cell_type": "code",
   "execution_count": 5,
   "metadata": {},
   "outputs": [
    {
     "output_type": "execute_result",
     "data": {
      "text/plain": [
       "{0: [(1.0, 101, -1, False)],\n",
       " 1: [(1.0, 1, -1, False)],\n",
       " 2: [(1.0, 21, -1, False)],\n",
       " 3: [(1.0, 1, -1, False)],\n",
       " 4: [(1.0, 17, -1, False)],\n",
       " 5: [(1.0, 1, -10, False)]}"
      ]
     },
     "metadata": {},
     "execution_count": 5
    }
   ],
   "source": [
    "env.P[1]"
   ]
  },
  {
   "cell_type": "code",
   "execution_count": 6,
   "metadata": {},
   "outputs": [
    {
     "output_type": "stream",
     "name": "stdout",
     "text": [
      "Model: \"sequential\"\n_________________________________________________________________\nLayer (type)                 Output Shape              Param #   \n=================================================================\nembedding (Embedding)        (None, 1, 6)              3000      \n_________________________________________________________________\nreshape (Reshape)            (None, 6)                 0         \n=================================================================\nTotal params: 3,000\nTrainable params: 3,000\nNon-trainable params: 0\n_________________________________________________________________\n"
     ]
    }
   ],
   "source": [
    "model = Sequential()\n",
    "model.add(Embedding(500, 6, input_length=1))\n",
    "model.add(Reshape((6,)))\n",
    "\n",
    "model.summary()"
   ]
  },
  {
   "cell_type": "code",
   "execution_count": 7,
   "metadata": {},
   "outputs": [],
   "source": [
    "policy = EpsGreedyQPolicy()\n",
    "memory = SequentialMemory(limit=5000, window_length=1)\n",
    "dqn = DQNAgent(model=model, memory=memory, policy=policy, nb_actions=env.action_space.n, nb_steps_warmup=500, target_model_update=1e-2)\n",
    "dqn.compile(Adam(lr=1e-3), metrics=['mse'])"
   ]
  },
  {
   "cell_type": "code",
   "execution_count": 11,
   "metadata": {
    "tags": []
   },
   "outputs": [
    {
     "output_type": "stream",
     "name": "stdout",
     "text": [
      "Training for 5000 steps ...\n",
      "Interval 1 (0 steps performed)\n",
      "5000/5000 [==============================] - 20s 4ms/step - reward: -4.9744\n",
      "done, took 20.433 seconds\n"
     ]
    },
    {
     "output_type": "execute_result",
     "data": {
      "text/plain": [
       "<tensorflow.python.keras.callbacks.History at 0x7f74c464ba60>"
      ]
     },
     "metadata": {},
     "execution_count": 11
    }
   ],
   "source": [
    "nb_steps     = 5000\n",
    "log_interval = 5000\n",
    "dqn.fit(env, nb_steps=nb_steps, verbose=1, nb_max_episode_steps=99, log_interval=log_interval)"
   ]
  },
  {
   "cell_type": "code",
   "execution_count": 13,
   "metadata": {
    "tags": []
   },
   "outputs": [
    {
     "output_type": "stream",
     "name": "stdout",
     "text": [
      "Testing for 5 episodes ...\n",
      "Episode 1: reward: -99.000, steps: 99\n",
      "Episode 2: reward: -99.000, steps: 99\n",
      "Episode 3: reward: -99.000, steps: 99\n",
      "Episode 4: reward: -99.000, steps: 99\n",
      "Episode 5: reward: -990.000, steps: 99\n"
     ]
    },
    {
     "output_type": "execute_result",
     "data": {
      "text/plain": [
       "<tensorflow.python.keras.callbacks.History at 0x7f7494da4760>"
      ]
     },
     "metadata": {},
     "execution_count": 13
    }
   ],
   "source": [
    "dqn.test(env, nb_episodes=5, nb_max_episode_steps=99, visualize=False)"
   ]
  },
  {
   "cell_type": "code",
   "execution_count": null,
   "metadata": {},
   "outputs": [],
   "source": []
  }
 ]
}